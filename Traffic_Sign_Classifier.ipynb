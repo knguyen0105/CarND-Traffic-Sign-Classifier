{
 "cells": [
  {
   "cell_type": "markdown",
   "metadata": {},
   "source": [
    "# Self-Driving Car Engineer Nanodegree\n",
    "\n",
    "## Deep Learning\n",
    "\n",
    "## Project: Build a Traffic Sign Recognition Classifier\n",
    "\n",
    "In this notebook, a template is provided for you to implement your functionality in stages, which is required to successfully complete this project. If additional code is required that cannot be included in the notebook, be sure that the Python code is successfully imported and included in your submission if necessary. \n",
    "\n",
    "> **Note**: Once you have completed all of the code implementations, you need to finalize your work by exporting the iPython Notebook as an HTML document. Before exporting the notebook to html, all of the code cells need to have been run so that reviewers can see the final implementation and output. You can then export the notebook by using the menu above and navigating to  \\n\",\n",
    "    \"**File -> Download as -> HTML (.html)**. Include the finished document along with this notebook as your submission. \n",
    "\n",
    "In addition to implementing code, there is a writeup to complete. The writeup should be completed in a separate file, which can be either a markdown file or a pdf document. There is a [write up template](https://github.com/udacity/CarND-Traffic-Sign-Classifier-Project/blob/master/writeup_template.md) that can be used to guide the writing process. Completing the code template and writeup template will cover all of the [rubric points](https://review.udacity.com/#!/rubrics/481/view) for this project.\n",
    "\n",
    "The [rubric](https://review.udacity.com/#!/rubrics/481/view) contains \"Stand Out Suggestions\" for enhancing the project beyond the minimum requirements. The stand out suggestions are optional. If you decide to pursue the \"stand out suggestions\", you can include the code in this Ipython notebook and also discuss the results in the writeup file.\n",
    "\n",
    "\n",
    ">**Note:** Code and Markdown cells can be executed using the **Shift + Enter** keyboard shortcut. In addition, Markdown cells can be edited by typically double-clicking the cell to enter edit mode."
   ]
  },
  {
   "cell_type": "markdown",
   "metadata": {},
   "source": [
    "---\n",
    "## Step 0: Load The Data"
   ]
  },
  {
   "cell_type": "code",
   "execution_count": 1,
   "metadata": {
    "collapsed": true
   },
   "outputs": [],
   "source": [
    "import numpy as np\n",
    "import pandas as pd\n",
    "import tensorflow as tf"
   ]
  },
  {
   "cell_type": "code",
   "execution_count": 2,
   "metadata": {
    "collapsed": true
   },
   "outputs": [],
   "source": [
    "# Load pickled data\n",
    "import pickle\n",
    "\n",
    "# TODO: Fill this in based on where you saved the training and testing data\n",
    "\n",
    "training_file = './input/train.p'\n",
    "validation_file= './input/valid.p'\n",
    "testing_file = './input/test.p'\n",
    "\n",
    "with open(training_file, mode='rb') as f:\n",
    "    train = pickle.load(f)\n",
    "with open(validation_file, mode='rb') as f:\n",
    "    valid = pickle.load(f)\n",
    "with open(testing_file, mode='rb') as f:\n",
    "    test = pickle.load(f)\n",
    "    \n",
    "X_train, y_train = train['features'], train['labels']\n",
    "X_valid, y_valid = valid['features'], valid['labels']\n",
    "X_test, y_test = test['features'], test['labels']\n"
   ]
  },
  {
   "cell_type": "markdown",
   "metadata": {},
   "source": [
    "---\n",
    "\n",
    "## Step 1: Dataset Summary & Exploration\n",
    "\n",
    "The pickled data is a dictionary with 4 key/value pairs:\n",
    "\n",
    "- `'features'` is a 4D array containing raw pixel data of the traffic sign images, (num examples, width, height, channels).\n",
    "- `'labels'` is a 1D array containing the label/class id of the traffic sign. The file `signnames.csv` contains id -> name mappings for each id.\n",
    "- `'sizes'` is a list containing tuples, (width, height) representing the original width and height the image.\n",
    "- `'coords'` is a list containing tuples, (x1, y1, x2, y2) representing coordinates of a bounding box around the sign in the image. **THESE COORDINATES ASSUME THE ORIGINAL IMAGE. THE PICKLED DATA CONTAINS RESIZED VERSIONS (32 by 32) OF THESE IMAGES**\n",
    "\n",
    "Complete the basic data summary below. Use python, numpy and/or pandas methods to calculate the data summary rather than hard coding the results. For example, the [pandas shape method](http://pandas.pydata.org/pandas-docs/stable/generated/pandas.DataFrame.shape.html) might be useful for calculating some of the summary results. "
   ]
  },
  {
   "cell_type": "markdown",
   "metadata": {},
   "source": [
    "### Provide a Basic Summary of the Data Set Using Python, Numpy and/or Pandas"
   ]
  },
  {
   "cell_type": "code",
   "execution_count": 3,
   "metadata": {},
   "outputs": [
    {
     "name": "stdout",
     "output_type": "stream",
     "text": [
      "Number of training examples = 34799\n",
      "Number of validation examples = 4410\n",
      "Number of testing examples = 12630\n",
      "Image data shape = (32, 32, 3)\n",
      "Number of classes = 43\n"
     ]
    }
   ],
   "source": [
    "### Replace each question mark with the appropriate value. \n",
    "### Use python, pandas or numpy methods rather than hard coding the results\n",
    "\n",
    "# TODO: Number of training examples\n",
    "n_train = len(X_train)\n",
    "\n",
    "# TODO: Number of validation examples\n",
    "n_validation = len(X_valid)\n",
    "\n",
    "# TODO: Number of testing examples.\n",
    "n_test = len(X_test)\n",
    "\n",
    "# TODO: What's the shape of an traffic sign image?\n",
    "# image_shape = train['sizes'][0] for the shape of the original image\n",
    "image_shape = np.shape(X_train[0])\n",
    "\n",
    "# TODO: How many unique classes/labels there are in the dataset.\n",
    "n_classes = len(set(train['labels']))\n",
    "\n",
    "print(\"Number of training examples =\", n_train)\n",
    "print(\"Number of validation examples =\", n_validation)\n",
    "print(\"Number of testing examples =\", n_test)\n",
    "print(\"Image data shape =\", image_shape)\n",
    "print(\"Number of classes =\", n_classes)"
   ]
  },
  {
   "cell_type": "markdown",
   "metadata": {},
   "source": [
    "### Include an exploratory visualization of the dataset"
   ]
  },
  {
   "cell_type": "markdown",
   "metadata": {},
   "source": [
    "Visualize the German Traffic Signs Dataset using the pickled file(s). This is open ended, suggestions include: plotting traffic sign images, plotting the count of each sign, etc. \n",
    "\n",
    "The [Matplotlib](http://matplotlib.org/) [examples](http://matplotlib.org/examples/index.html) and [gallery](http://matplotlib.org/gallery.html) pages are a great resource for doing visualizations in Python.\n",
    "\n",
    "**NOTE:** It's recommended you start with something simple first. If you wish to do more, come back to it after you've completed the rest of the sections. It can be interesting to look at the distribution of classes in the training, validation and test set. Is the distribution the same? Are there more examples of some classes than others?"
   ]
  },
  {
   "cell_type": "code",
   "execution_count": 4,
   "metadata": {
    "collapsed": true
   },
   "outputs": [],
   "source": [
    "### Data exploration visualization code goes here.\n",
    "### Feel free to use as many code cells as needed.\n",
    "import matplotlib.pyplot as plt\n",
    "# Visualizations will be shown in the notebook.\n",
    "%matplotlib inline"
   ]
  },
  {
   "cell_type": "code",
   "execution_count": null,
   "metadata": {},
   "outputs": [],
   "source": [
    "### Plot traffic sign images\n",
    "for n in [0,100,200,300,400]:\n",
    "    fig = plt.figure()\n",
    "    plt.imshow(X_train[n])\n",
    "    fig.suptitle('image #{}, label={}'.format(n,y_train[n]), fontsize=20)"
   ]
  },
  {
   "cell_type": "code",
   "execution_count": null,
   "metadata": {
    "collapsed": true
   },
   "outputs": [],
   "source": [
    "## Plot count of each sign\n",
    "print('Number of classes: {}'.format(len(set(y_train))))\n",
    "print('Class distribution in training set')\n",
    "ax = pd.value_counts(y_train).plot(kind='barh',figsize=(30,30))\n",
    "ax.tick_params(axis='both', which='major', labelsize=20)"
   ]
  },
  {
   "cell_type": "code",
   "execution_count": null,
   "metadata": {
    "collapsed": true
   },
   "outputs": [],
   "source": [
    "print(\"class distribution in testing set\")\n",
    "ax = pd.value_counts(y_test).plot(kind='barh',figsize=(30,30))\n",
    "ax.tick_params(axis='both', which='major', labelsize=20)"
   ]
  },
  {
   "cell_type": "code",
   "execution_count": null,
   "metadata": {
    "collapsed": true
   },
   "outputs": [],
   "source": [
    "print(\"class distribution in validation set\")\n",
    "ax = pd.value_counts(y_test).plot(kind='barh',figsize=(30,30))\n",
    "ax.tick_params(axis='both', which='major', labelsize=20)"
   ]
  },
  {
   "cell_type": "code",
   "execution_count": null,
   "metadata": {
    "collapsed": true
   },
   "outputs": [],
   "source": []
  },
  {
   "cell_type": "markdown",
   "metadata": {},
   "source": [
    "----\n",
    "\n",
    "## Step 2: Design and Test a Model Architecture\n",
    "\n",
    "Design and implement a deep learning model that learns to recognize traffic signs. Train and test your model on the [German Traffic Sign Dataset](http://benchmark.ini.rub.de/?section=gtsrb&subsection=dataset).\n",
    "\n",
    "The LeNet-5 implementation shown in the [classroom](https://classroom.udacity.com/nanodegrees/nd013/parts/fbf77062-5703-404e-b60c-95b78b2f3f9e/modules/6df7ae49-c61c-4bb2-a23e-6527e69209ec/lessons/601ae704-1035-4287-8b11-e2c2716217ad/concepts/d4aca031-508f-4e0b-b493-e7b706120f81) at the end of the CNN lesson is a solid starting point. You'll have to change the number of classes and possibly the preprocessing, but aside from that it's plug and play! \n",
    "\n",
    "With the LeNet-5 solution from the lecture, you should expect a validation set accuracy of about 0.89. To meet specifications, the validation set accuracy will need to be at least 0.93. It is possible to get an even higher accuracy, but 0.93 is the minimum for a successful project submission. \n",
    "\n",
    "There are various aspects to consider when thinking about this problem:\n",
    "\n",
    "- Neural network architecture (is the network over or underfitting?)\n",
    "- Play around preprocessing techniques (normalization, rgb to grayscale, etc)\n",
    "- Number of examples per label (some have more than others).\n",
    "- Generate fake data.\n",
    "\n",
    "Here is an example of a [published baseline model on this problem](http://yann.lecun.com/exdb/publis/pdf/sermanet-ijcnn-11.pdf). It's not required to be familiar with the approach used in the paper but, it's good practice to try to read papers like these."
   ]
  },
  {
   "cell_type": "markdown",
   "metadata": {},
   "source": [
    "### Pre-process the Data Set (normalization, grayscale, etc.)"
   ]
  },
  {
   "cell_type": "markdown",
   "metadata": {},
   "source": [
    "Minimally, the image data should be normalized so that the data has mean zero and equal variance. For image data, `(pixel - 128)/ 128` is a quick way to approximately normalize the data and can be used in this project. \n",
    "\n",
    "Other pre-processing steps are optional. You can try different techniques to see if it improves performance. \n",
    "\n",
    "Use the code cell (or multiple code cells, if necessary) to implement the first step of your project."
   ]
  },
  {
   "cell_type": "code",
   "execution_count": 5,
   "metadata": {
    "collapsed": true
   },
   "outputs": [],
   "source": [
    "### Preprocess the data here. It is required to normalize the data. Other preprocessing steps could include \n",
    "### converting to grayscale, etc.\n",
    "### Feel free to use as many code cells as needed.\n",
    "\n",
    "### The preprocessing includes two tasks: \n",
    "### 1) convert to grayscale\n",
    "### 2) normalize with (pixel - 128) / 128\n",
    "### both are done below, inside Lenet(x):\n",
    "\n",
    "from sklearn.utils import shuffle\n",
    "from sklearn import preprocessing\n",
    "from skimage.color import rgb2gray\n",
    "from imblearn.over_sampling import RandomOverSampler\n",
    "from imblearn.over_sampling import SMOTE, ADASYN\n",
    "\n",
    "X_train, y_train = shuffle(X_train, y_train)\n",
    "\n",
    "#resample the data\n",
    "#ros = RandomOverSampler()\n",
    "#X_resampled, y_resampled = ros.fit_sample(X_train.reshape(-1,32*32*3), y_train)\n",
    "smote = SMOTE()\n",
    "X_resampled, y_resampled = smote.fit_sample(X_train.reshape(-1,32*32*3), y_train)\n",
    "\n",
    "X_train = X_resampled.reshape(-1,32,32,3)\n",
    "y_train = y_resampled"
   ]
  },
  {
   "cell_type": "code",
   "execution_count": null,
   "metadata": {},
   "outputs": [],
   "source": [
    "\n",
    "\n",
    "#img_gray.shape\n",
    "#X_train.shape"
   ]
  },
  {
   "cell_type": "markdown",
   "metadata": {},
   "source": [
    "### Model Architecture"
   ]
  },
  {
   "cell_type": "code",
   "execution_count": 14,
   "metadata": {
    "collapsed": true
   },
   "outputs": [],
   "source": [
    "### Define your architecture here.\n",
    "### Feel free to use as many code cells as needed.\n",
    "import tensorflow as tf\n",
    "\n",
    "EPOCHS = 20\n",
    "BATCH_SIZE = 128\n",
    "from tensorflow.contrib.layers import flatten\n",
    "\n",
    "def LeNet(x):    \n",
    "    # Arguments used for tf.truncated_normal, randomly defines variables for the weights and biases for each layer\n",
    "    mu = 0\n",
    "    sigma = 0.1\n",
    "    x = tf.image.convert_image_dtype(x, tf.float32)    \n",
    "    #x = (x - 128)/128\n",
    "    x = tf.image.rgb_to_grayscale(x)                \n",
    "    # TODO: Layer 1: Convolutional. Input = 32x32x1. Output = 28x28x6.\n",
    "    filter_size_width = 5\n",
    "    filter_size_height = 5\n",
    "    weight = tf.Variable(tf.truncated_normal(\n",
    "                [filter_size_height, filter_size_width, 1, 6],mean=mu,stddev=sigma))\n",
    "    bias = tf.Variable(tf.truncated_normal([6],mean=mu,stddev=sigma))\n",
    "    conv_layer = tf.nn.conv2d(x, weight, strides=[1, 1, 1, 1], padding=\"VALID\")    \n",
    "    conv_layer = tf.nn.bias_add(conv_layer, bias)\n",
    "    print(conv_layer)\n",
    "    # TODO: Activation.\n",
    "    conv_layer = tf.nn.relu(conv_layer)    \n",
    "    # TODO: Pooling. Input = 28x28x6. Output = 14x14x6.\n",
    "    conv_layer = tf.nn.max_pool(\n",
    "                conv_layer,\n",
    "                ksize=[1, 2, 2, 1],\n",
    "                strides=[1, 2, 2, 1],\n",
    "                padding='SAME')\n",
    "    print(conv_layer)    \n",
    "    # TODO: Layer 2: Convolutional. Output = 10x10x16.\n",
    "    weight2 = tf.Variable(tf.truncated_normal(\n",
    "                [filter_size_height, filter_size_width, 6, 16],mean=mu,stddev=sigma))\n",
    "    bias2 = tf.Variable(tf.truncated_normal([16],mean=mu,stddev=sigma))\n",
    "    conv_layer = tf.nn.conv2d(conv_layer, weight2, strides=[1, 1, 1, 1], padding='VALID')\n",
    "    conv_layer = tf.nn.bias_add(conv_layer, bias2)    \n",
    "    print(conv_layer)\n",
    "    # TODO: Activation.\n",
    "    conv_layer = tf.nn.relu(conv_layer)    \n",
    "    \n",
    "    # TODO: Pooling. Input = 10x10x16. Output = 5x5x16.\n",
    "    conv_layer = tf.nn.max_pool(\n",
    "                conv_layer,\n",
    "                ksize=[1, 2, 2, 1],\n",
    "                strides=[1, 2, 2, 1],\n",
    "                padding='SAME')\n",
    "    print(conv_layer)    \n",
    "    # TODO: Flatten. Input = 5x5x16. Output = 400.\n",
    "    flatten = tf.contrib.layers.flatten(conv_layer)\n",
    "    print(flatten)\n",
    "    # TODO: Layer 3: Fully Connected. Input = 400. Output = 120.\n",
    "    W = tf.Variable(tf.truncated_normal([400, 120],mean=mu,stddev=sigma))\n",
    "    b = tf.Variable(tf.truncated_normal([120],mean=mu,stddev=sigma))\n",
    "    hidden_layer = tf.add(tf.matmul(flatten, W), b)\n",
    "    # TODO: Activation.\n",
    "    hidden_layer = tf.nn.relu(hidden_layer)\n",
    "    \n",
    "    print(hidden_layer)\n",
    "    # TODO: Layer 4: Fully Connected. Input = 120. Output = 84.\n",
    "    W1 = tf.Variable(tf.truncated_normal([120, 84],mean=mu,stddev=sigma))\n",
    "    b1 = tf.Variable(tf.truncated_normal([84],mean=mu,stddev=sigma))\n",
    "    hidden_layer = tf.add(tf.matmul(hidden_layer, W1), b1)    \n",
    "    \n",
    "    # TODO: Activation.\n",
    "    hidden_layer = tf.nn.relu(hidden_layer)    \n",
    "    h_fc1_drop = tf.nn.dropout(hidden_layer, keep_prob)\n",
    "    # TODO: Layer 5: Fully Connected. Input = 84. Output = 43.\n",
    "    W2 = tf.Variable(tf.truncated_normal([84, 43],mean=mu,stddev=sigma))\n",
    "    b2 = tf.Variable(tf.truncated_normal([43],mean=mu,stddev=sigma))\n",
    "    logits = tf.add(tf.matmul(h_fc1_drop, W2), b2)    \n",
    "    print(logits)\n",
    "    return logits"
   ]
  },
  {
   "cell_type": "markdown",
   "metadata": {},
   "source": [
    "### Train, Validate and Test the Model"
   ]
  },
  {
   "cell_type": "markdown",
   "metadata": {},
   "source": [
    "A validation set can be used to assess how well the model is performing. A low accuracy on the training and validation\n",
    "sets imply underfitting. A high accuracy on the training set but low accuracy on the validation set implies overfitting."
   ]
  },
  {
   "cell_type": "code",
   "execution_count": 15,
   "metadata": {},
   "outputs": [
    {
     "name": "stdout",
     "output_type": "stream",
     "text": [
      "Tensor(\"BiasAdd_2:0\", shape=(?, 28, 28, 6), dtype=float32)\n",
      "Tensor(\"MaxPool_2:0\", shape=(?, 14, 14, 6), dtype=float32)\n",
      "Tensor(\"BiasAdd_3:0\", shape=(?, 10, 10, 16), dtype=float32)\n",
      "Tensor(\"MaxPool_3:0\", shape=(?, 5, 5, 16), dtype=float32)\n",
      "Tensor(\"Flatten_1/Reshape:0\", shape=(?, 400), dtype=float32)\n",
      "Tensor(\"Relu_6:0\", shape=(?, 120), dtype=float32)\n",
      "Tensor(\"Add_5:0\", shape=(?, 43), dtype=float32)\n",
      "Training...\n",
      "\n",
      "EPOCH 1 ...\n",
      "Training Accuracy   = 0.676\n",
      "Validation Accuracy = 0.762\n",
      "\n",
      "EPOCH 2 ...\n",
      "Training Accuracy   = 0.824\n",
      "Validation Accuracy = 0.882\n",
      "\n",
      "EPOCH 3 ...\n",
      "Training Accuracy   = 0.858\n",
      "Validation Accuracy = 0.895\n",
      "\n",
      "EPOCH 4 ...\n",
      "Training Accuracy   = 0.894\n",
      "Validation Accuracy = 0.913\n",
      "\n",
      "EPOCH 5 ...\n",
      "Training Accuracy   = 0.899\n",
      "Validation Accuracy = 0.910\n",
      "\n",
      "EPOCH 6 ...\n",
      "Training Accuracy   = 0.916\n",
      "Validation Accuracy = 0.920\n",
      "\n",
      "EPOCH 7 ...\n",
      "Training Accuracy   = 0.923\n",
      "Validation Accuracy = 0.921\n",
      "\n",
      "EPOCH 8 ...\n",
      "Training Accuracy   = 0.929\n",
      "Validation Accuracy = 0.916\n",
      "\n",
      "EPOCH 9 ...\n",
      "Training Accuracy   = 0.937\n",
      "Validation Accuracy = 0.948\n",
      "\n",
      "EPOCH 10 ...\n",
      "Training Accuracy   = 0.939\n",
      "Validation Accuracy = 0.941\n",
      "\n",
      "EPOCH 11 ...\n",
      "Training Accuracy   = 0.936\n",
      "Validation Accuracy = 0.940\n",
      "\n",
      "EPOCH 12 ...\n",
      "Training Accuracy   = 0.938\n",
      "Validation Accuracy = 0.913\n",
      "\n",
      "EPOCH 13 ...\n",
      "Training Accuracy   = 0.947\n",
      "Validation Accuracy = 0.949\n",
      "\n",
      "EPOCH 14 ...\n",
      "Training Accuracy   = 0.944\n",
      "Validation Accuracy = 0.943\n",
      "\n",
      "EPOCH 15 ...\n",
      "Training Accuracy   = 0.948\n",
      "Validation Accuracy = 0.934\n",
      "\n",
      "EPOCH 16 ...\n",
      "Training Accuracy   = 0.950\n",
      "Validation Accuracy = 0.941\n",
      "\n",
      "EPOCH 17 ...\n",
      "Training Accuracy   = 0.952\n",
      "Validation Accuracy = 0.947\n",
      "\n",
      "EPOCH 18 ...\n",
      "Training Accuracy   = 0.950\n",
      "Validation Accuracy = 0.945\n",
      "\n",
      "EPOCH 19 ...\n",
      "Training Accuracy   = 0.944\n",
      "Validation Accuracy = 0.927\n",
      "\n",
      "EPOCH 20 ...\n",
      "Training Accuracy   = 0.957\n",
      "Validation Accuracy = 0.946\n",
      "\n",
      "Model saved\n"
     ]
    }
   ],
   "source": [
    "### Train your model here.\n",
    "### Calculate and report the accuracy on the training and validation set.\n",
    "### Once a final model architecture is selected, \n",
    "### the accuracy on the test set should be calculated and reported as well.\n",
    "### Feel free to use as many code cells as needed.\n",
    "x = tf.placeholder(tf.float32, (None, 32, 32, 3)) \n",
    "#x = tf.placeholder(tf.float32, (None, 32, 32, 1))\n",
    "y = tf.placeholder(tf.int32, (None))\n",
    "keep_prob = tf.placeholder(tf.float32)\n",
    "\n",
    "\n",
    "one_hot_y = tf.one_hot(y, 43)\n",
    "\n",
    "rate = 0.002\n",
    "logits = LeNet(x)\n",
    "\n",
    "cross_entropy = tf.nn.softmax_cross_entropy_with_logits(labels=one_hot_y, logits=logits)\n",
    "loss_operation = tf.reduce_mean(cross_entropy)\n",
    "optimizer = tf.train.AdamOptimizer(learning_rate = rate)\n",
    "training_operation = optimizer.minimize(loss_operation)\n",
    "\n",
    "correct_prediction = tf.equal(tf.argmax(logits, 1), tf.argmax(one_hot_y, 1))\n",
    "accuracy_operation = tf.reduce_mean(tf.cast(correct_prediction, tf.float32))\n",
    "saver = tf.train.Saver()\n",
    "\n",
    "def evaluate(X_data, y_data):\n",
    "    num_examples = len(X_data)\n",
    "    total_accuracy = 0\n",
    "    sess = tf.get_default_session()\n",
    "    for offset in range(0, num_examples, BATCH_SIZE):\n",
    "        batch_x, batch_y = X_data[offset:offset+BATCH_SIZE], y_data[offset:offset+BATCH_SIZE]\n",
    "        accuracy = sess.run(accuracy_operation, feed_dict={x: batch_x, y: batch_y, keep_prob:1})\n",
    "        total_accuracy += (accuracy * len(batch_x))\n",
    "    return total_accuracy / num_examples\n",
    "\n",
    "with tf.Session() as sess:\n",
    "    sess.run(tf.global_variables_initializer())\n",
    "    num_examples = len(X_train)\n",
    "    \n",
    "    print(\"Training...\")\n",
    "    print()\n",
    "    for i in range(EPOCHS):\n",
    "        X_train, y_train = shuffle(X_train, y_train)\n",
    "        for offset in range(0, num_examples, BATCH_SIZE):\n",
    "            end = offset + BATCH_SIZE\n",
    "            batch_x, batch_y = X_train[offset:end], y_train[offset:end]\n",
    "            sess.run(training_operation, feed_dict={x: batch_x, y: batch_y,keep_prob:0.5})\n",
    "\n",
    "        \n",
    "        training_accuracy = evaluate(X_train, y_train)        \n",
    "        validation_accuracy = evaluate(X_valid, y_valid)\n",
    "        print(\"EPOCH {} ...\".format(i+1))            \n",
    "        print(\"Training Accuracy   = {:.3f}\".format(training_accuracy))                            \n",
    "        print(\"Validation Accuracy = {:.3f}\".format(validation_accuracy))\n",
    "        print()\n",
    "        \n",
    "    saver.save(sess, './lenet')\n",
    "    print(\"Model saved\")"
   ]
  },
  {
   "cell_type": "markdown",
   "metadata": {},
   "source": [
    "## Model Testing"
   ]
  },
  {
   "cell_type": "code",
   "execution_count": 16,
   "metadata": {},
   "outputs": [
    {
     "name": "stdout",
     "output_type": "stream",
     "text": [
      "Test Accuracy = 0.924\n"
     ]
    }
   ],
   "source": [
    "with tf.Session() as sess:\n",
    "    saver.restore(sess, tf.train.latest_checkpoint('.'))\n",
    "\n",
    "    test_accuracy = evaluate(X_test, y_test)\n",
    "    print(\"Test Accuracy = {:.3f}\".format(test_accuracy))"
   ]
  },
  {
   "cell_type": "markdown",
   "metadata": {},
   "source": [
    "---\n",
    "\n",
    "## Step 3: Test a Model on New Images\n",
    "\n",
    "To give yourself more insight into how your model is working, download at least five pictures of German traffic signs from the web and use your model to predict the traffic sign type.\n",
    "\n",
    "You may find `signnames.csv` useful as it contains mappings from the class id (integer) to the actual sign name."
   ]
  },
  {
   "cell_type": "markdown",
   "metadata": {},
   "source": [
    "### Load and Output the Images"
   ]
  },
  {
   "cell_type": "code",
   "execution_count": 17,
   "metadata": {
    "collapsed": true
   },
   "outputs": [],
   "source": [
    "## Images are borrowed from https://github.com/navoshta/traffic-signs/tree/master/traffic-signs-data/custom\n",
    "from skimage import io\n",
    "import os\n",
    "X_custom = np.empty([0, 32, 32, 3], dtype = np.int32)\n",
    "for i in range(38):\n",
    "    image = io.imread(os.getcwd() + '/new_images/' + \"example_{0:0>5}\".format(i + 1) + '.png')\n",
    "    X_custom = np.append(X_custom, [image[:, :, :3]], axis = 0)\n",
    "\n",
    "# Provide labels of the captured images:\n",
    "y_custom = np.array([\n",
    "    21, # \"example_00001\"\n",
    "    39, # \"example_00002\"\n",
    "    17, # \"example_00003\"\n",
    "    17, # \"example_00004\"\n",
    "    17, # \"example_00005\"\n",
    "    39, # \"example_00006\"\n",
    "    39, # \"example_00007\"\n",
    "    40, # \"example_00008\"\n",
    "    40, # \"example_00009\"\n",
    "    34, # \"example_00010\"\n",
    "    28, # \"example_00011\"\n",
    "    39, # \"example_00012\"\n",
    "    0, # \"example_00013\"\n",
    "    17, # \"example_00014\"\n",
    "    38, # \"example_00015\"\n",
    "    13, # \"example_00016\"\n",
    "    40, # \"example_00017\"\n",
    "    13, # \"example_00018\"\n",
    "    38, # \"example_00019\"\n",
    "    38, # \"example_00020\"\n",
    "    11, # \"example_00021\"\n",
    "    0, # \"example_00022\"\n",
    "    28, # \"example_00023\"\n",
    "    0, # \"example_00024\"\n",
    "    99, # \"example_00025\"\n",
    "    99, # \"example_00026\"\n",
    "    99, # \"example_00027\"\n",
    "    32, # \"example_00028\"\n",
    "    40, # \"example_00029\"\n",
    "    28, # \"example_00030\"\n",
    "    40, # \"example_00031\"\n",
    "    40, # \"example_00032\"\n",
    "    28, # \"example_00033\"\n",
    "    24, # \"example_00034\"\n",
    "    0, # \"example_00035\"\n",
    "    0, # \"example_00036\"\n",
    "    0, # \"example_00037\"\n",
    "    0 # \"example_00038\"\n",
    "])\n"
   ]
  },
  {
   "cell_type": "markdown",
   "metadata": {},
   "source": [
    "### Predict the Sign Type for Each Image"
   ]
  },
  {
   "cell_type": "code",
   "execution_count": 28,
   "metadata": {},
   "outputs": [
    {
     "name": "stdout",
     "output_type": "stream",
     "text": [
      "Y=21, pred=21: correct\n",
      "Y=39, pred=39: correct\n",
      "Y=17, pred=17: correct\n",
      "Y=17, pred=17: correct\n",
      "Y=17, pred=17: correct\n",
      "Y=39, pred=39: correct\n",
      "Y=39, pred=39: correct\n",
      "Y=40, pred=40: correct\n",
      "Y=40, pred=40: correct\n",
      "Y=34, pred=34: correct\n",
      "Y=28, pred=28: correct\n",
      "Y=39, pred=39: correct\n",
      "Y=0, pred=5: incorrect\n",
      "Y=17, pred=17: correct\n",
      "Y=38, pred=38: correct\n",
      "Y=13, pred=13: correct\n",
      "Y=40, pred=40: correct\n",
      "Y=13, pred=13: correct\n",
      "Y=38, pred=38: correct\n",
      "Y=38, pred=38: correct\n",
      "Y=11, pred=11: correct\n",
      "Y=0, pred=3: incorrect\n",
      "Y=28, pred=11: incorrect\n",
      "Y=0, pred=8: incorrect\n",
      "Y=99, pred=28: incorrect\n",
      "Y=99, pred=16: incorrect\n",
      "Y=99, pred=10: incorrect\n",
      "Y=32, pred=1: incorrect\n",
      "Y=40, pred=40: correct\n",
      "Y=28, pred=28: correct\n",
      "Y=40, pred=40: correct\n",
      "Y=40, pred=40: correct\n",
      "Y=28, pred=11: incorrect\n",
      "Y=24, pred=24: correct\n",
      "Y=0, pred=0: correct\n",
      "Y=0, pred=0: correct\n",
      "Y=0, pred=14: incorrect\n",
      "Y=0, pred=0: correct\n",
      "Total: 38 images\n",
      "Incorrect prediction: 10 images\n",
      "Correct prediction: 28 images\n",
      "Performance: 0.7368421052631579\n"
     ]
    }
   ],
   "source": [
    "### Run the predictions here and use the model to output the prediction for each image.\n",
    "### Make sure to pre-process the images with the same pre-processing pipeline used earlier.\n",
    "### Feel free to use as many code cells as needed.\n",
    "with tf.Session() as sess:\n",
    "    saver.restore(sess, tf.train.latest_checkpoint('.'))\n",
    "    pred = (sess.run(tf.argmax(logits, 1),feed_dict={x: X_custom, y: y_custom, keep_prob:1} ))\n",
    "    \n",
    "    incorrect = 0\n",
    "    for (y_, p_) in zip(y_custom, pred):\n",
    "        ans = 'correct'\n",
    "        if y_ != p_: \n",
    "            incorrect+=1\n",
    "            ans = 'incorrect'\n",
    "        print('Y={}, pred={}: {}'.format(y_, p_, ans))\n",
    "\n",
    "    print(\"Total: {} images\".format(len(X_custom)))\n",
    "    print(\"Incorrect prediction: {} images\".format(incorrect))\n",
    "    print(\"Correct prediction: {} images\".format(len(X_custom) - incorrect))\n",
    "    print(\"Performance: {}\".format((len(X_custom) - incorrect)/len(X_custom)))"
   ]
  },
  {
   "cell_type": "markdown",
   "metadata": {},
   "source": [
    "### Analyze Performance"
   ]
  },
  {
   "cell_type": "code",
   "execution_count": 22,
   "metadata": {
    "scrolled": true
   },
   "outputs": [
    {
     "name": "stdout",
     "output_type": "stream",
     "text": [
      "Test Accuracy = 0.737\n"
     ]
    }
   ],
   "source": [
    "### Calculate the accuracy for these 5 new images. \n",
    "### For example, if the model predicted 1 out of 5 signs correctly, it's 20% accurate on these new images.\n",
    "with tf.Session() as sess:\n",
    "    saver.restore(sess, tf.train.latest_checkpoint('.'))\n",
    "\n",
    "    custom_accuracy = evaluate(X_custom, y_custom)\n",
    "    print(\"Test Accuracy = {:.3f}\".format(custom_accuracy))"
   ]
  },
  {
   "cell_type": "markdown",
   "metadata": {},
   "source": [
    "### Output Top 5 Softmax Probabilities For Each Image Found on the Web"
   ]
  },
  {
   "cell_type": "markdown",
   "metadata": {},
   "source": [
    "For each of the new images, print out the model's softmax probabilities to show the **certainty** of the model's predictions (limit the output to the top 5 probabilities for each image). [`tf.nn.top_k`](https://www.tensorflow.org/versions/r0.12/api_docs/python/nn.html#top_k) could prove helpful here. \n",
    "\n",
    "The example below demonstrates how tf.nn.top_k can be used to find the top k predictions for each image.\n",
    "\n",
    "`tf.nn.top_k` will return the values and indices (class ids) of the top k predictions. So if k=3, for each sign, it'll return the 3 largest probabilities (out of a possible 43) and the correspoding class ids.\n",
    "\n",
    "Take this numpy array as an example. The values in the array represent predictions. The array contains softmax probabilities for five candidate images with six possible classes. `tk.nn.top_k` is used to choose the three classes with the highest probability:\n",
    "\n",
    "```\n",
    "# (5, 6) array\n",
    "a = np.array([[ 0.24879643,  0.07032244,  0.12641572,  0.34763842,  0.07893497,\n",
    "         0.12789202],\n",
    "       [ 0.28086119,  0.27569815,  0.08594638,  0.0178669 ,  0.18063401,\n",
    "         0.15899337],\n",
    "       [ 0.26076848,  0.23664738,  0.08020603,  0.07001922,  0.1134371 ,\n",
    "         0.23892179],\n",
    "       [ 0.11943333,  0.29198961,  0.02605103,  0.26234032,  0.1351348 ,\n",
    "         0.16505091],\n",
    "       [ 0.09561176,  0.34396535,  0.0643941 ,  0.16240774,  0.24206137,\n",
    "         0.09155967]])\n",
    "```\n",
    "\n",
    "Running it through `sess.run(tf.nn.top_k(tf.constant(a), k=3))` produces:\n",
    "\n",
    "```\n",
    "TopKV2(values=array([[ 0.34763842,  0.24879643,  0.12789202],\n",
    "       [ 0.28086119,  0.27569815,  0.18063401],\n",
    "       [ 0.26076848,  0.23892179,  0.23664738],\n",
    "       [ 0.29198961,  0.26234032,  0.16505091],\n",
    "       [ 0.34396535,  0.24206137,  0.16240774]]), indices=array([[3, 0, 5],\n",
    "       [0, 1, 4],\n",
    "       [0, 5, 1],\n",
    "       [1, 3, 5],\n",
    "       [1, 4, 3]], dtype=int32))\n",
    "```\n",
    "\n",
    "Looking just at the first row we get `[ 0.34763842,  0.24879643,  0.12789202]`, you can confirm these are the 3 largest probabilities in `a`. You'll also notice `[3, 0, 5]` are the corresponding indices."
   ]
  },
  {
   "cell_type": "code",
   "execution_count": 13,
   "metadata": {},
   "outputs": [
    {
     "name": "stdout",
     "output_type": "stream",
     "text": [
      "TopKV2(values=array([[  9.99999881e-01,   6.30595949e-08,   1.15297161e-09,\n",
      "          2.82690704e-10,   2.19464599e-10],\n",
      "       [  1.00000000e+00,   0.00000000e+00,   0.00000000e+00,\n",
      "          0.00000000e+00,   0.00000000e+00],\n",
      "       [  1.00000000e+00,   4.50989669e-13,   9.59389022e-17,\n",
      "          6.69921057e-21,   7.59203269e-23],\n",
      "       [  1.00000000e+00,   2.26265485e-13,   3.38163849e-16,\n",
      "          1.05194200e-19,   3.91337108e-22],\n",
      "       [  1.00000000e+00,   6.70576246e-19,   6.26610361e-24,\n",
      "          7.02136372e-26,   5.54389814e-34],\n",
      "       [  1.00000000e+00,   3.53914604e-30,   6.00258079e-32,\n",
      "          1.59695095e-33,   8.42566575e-38],\n",
      "       [  1.00000000e+00,   0.00000000e+00,   0.00000000e+00,\n",
      "          0.00000000e+00,   0.00000000e+00],\n",
      "       [  1.00000000e+00,   5.45139583e-33,   2.26157353e-34,\n",
      "          3.37623071e-35,   8.63424134e-36],\n",
      "       [  1.00000000e+00,   3.83137439e-15,   1.55597221e-15,\n",
      "          1.19038220e-15,   2.29640320e-16],\n",
      "       [  1.00000000e+00,   1.10824721e-22,   5.45670550e-24,\n",
      "          8.65552417e-33,   2.35232068e-33],\n",
      "       [  9.99991775e-01,   5.55447878e-06,   2.56636804e-06,\n",
      "          1.13097745e-08,   7.87052024e-09],\n",
      "       [  1.00000000e+00,   1.72020868e-31,   2.29265342e-34,\n",
      "          1.70483272e-36,   0.00000000e+00],\n",
      "       [  6.29696310e-01,   3.68717343e-01,   1.22098438e-03,\n",
      "          1.69313629e-04,   1.02243706e-04],\n",
      "       [  1.00000000e+00,   2.56338900e-22,   2.58255301e-33,\n",
      "          2.29264346e-35,   0.00000000e+00],\n",
      "       [  1.00000000e+00,   0.00000000e+00,   0.00000000e+00,\n",
      "          0.00000000e+00,   0.00000000e+00],\n",
      "       [  1.00000000e+00,   0.00000000e+00,   0.00000000e+00,\n",
      "          0.00000000e+00,   0.00000000e+00],\n",
      "       [  9.93126512e-01,   6.87341439e-03,   1.17929906e-08,\n",
      "          5.98691630e-09,   5.39254552e-09],\n",
      "       [  1.00000000e+00,   0.00000000e+00,   0.00000000e+00,\n",
      "          0.00000000e+00,   0.00000000e+00],\n",
      "       [  1.00000000e+00,   7.94879362e-24,   7.13124011e-30,\n",
      "          1.49092157e-31,   5.58473104e-36],\n",
      "       [  1.00000000e+00,   3.11400038e-26,   1.02297358e-28,\n",
      "          1.01394470e-28,   6.78961565e-29],\n",
      "       [  9.94189262e-01,   4.96552605e-03,   4.07892454e-04,\n",
      "          2.47048447e-04,   1.49269370e-04],\n",
      "       [  9.98209715e-01,   1.68833544e-03,   1.01928468e-04,\n",
      "          4.25887636e-09,   4.22480673e-09],\n",
      "       [  9.94047403e-01,   4.55197459e-03,   9.64504783e-04,\n",
      "          4.33800829e-04,   1.62405274e-06],\n",
      "       [  9.99997735e-01,   2.28143290e-06,   7.61826691e-09,\n",
      "          1.27646074e-10,   8.31724121e-13],\n",
      "       [  1.00000000e+00,   6.13471990e-12,   1.86669487e-13,\n",
      "          1.39659520e-16,   1.28653015e-16],\n",
      "       [  9.99830842e-01,   1.19590586e-04,   4.96175198e-05,\n",
      "          1.95788963e-09,   2.33848191e-10],\n",
      "       [  9.94746387e-01,   4.98525938e-03,   2.68362579e-04,\n",
      "          3.65988351e-10,   8.12918829e-12],\n",
      "       [  1.00000000e+00,   8.29945989e-14,   1.75682299e-15,\n",
      "          1.33872707e-19,   3.83446423e-20],\n",
      "       [  1.00000000e+00,   2.30520833e-22,   1.82446034e-22,\n",
      "          9.63265871e-23,   2.00409679e-24],\n",
      "       [  9.45170224e-01,   5.40951751e-02,   7.34478643e-04,\n",
      "          6.00699863e-08,   2.48515679e-08],\n",
      "       [  1.00000000e+00,   2.88138123e-22,   2.60904066e-26,\n",
      "          2.19366595e-26,   4.49498182e-27],\n",
      "       [  9.84682202e-01,   9.43422411e-03,   5.82033303e-03,\n",
      "          2.26770590e-05,   1.95506909e-05],\n",
      "       [  8.87343287e-01,   1.12656660e-01,   1.10170695e-09,\n",
      "          5.79061410e-10,   1.15480472e-11],\n",
      "       [  9.99994874e-01,   5.06907281e-06,   9.24629928e-10,\n",
      "          1.01374400e-17,   8.13631477e-18],\n",
      "       [  1.00000000e+00,   2.69175765e-26,   0.00000000e+00,\n",
      "          0.00000000e+00,   0.00000000e+00],\n",
      "       [  1.00000000e+00,   1.26228264e-11,   3.72079405e-17,\n",
      "          5.33739531e-19,   1.36346571e-19],\n",
      "       [  9.99301434e-01,   6.96578354e-04,   1.18875539e-06,\n",
      "          3.09673879e-07,   2.08344858e-07],\n",
      "       [  1.00000000e+00,   1.03970350e-17,   5.16932650e-22,\n",
      "          5.33423011e-23,   2.43731021e-24]], dtype=float32), indices=array([[21, 11, 19, 31, 30],\n",
      "       [39,  0,  1,  2,  3],\n",
      "       [17,  9, 12, 41, 15],\n",
      "       [17,  9, 41, 12, 20],\n",
      "       [17,  9, 12, 41, 34],\n",
      "       [39,  7, 10, 40, 25],\n",
      "       [39,  0,  1,  2,  3],\n",
      "       [40, 15, 12, 11, 39],\n",
      "       [40, 12, 15, 11, 37],\n",
      "       [34, 35, 15, 38,  9],\n",
      "       [28, 29, 30, 22, 11],\n",
      "       [39,  7, 40, 10,  0],\n",
      "       [ 1,  4,  5,  2,  3],\n",
      "       [17,  9, 41, 12,  0],\n",
      "       [38,  0,  1,  2,  3],\n",
      "       [13,  0,  1,  2,  3],\n",
      "       [40, 15, 16,  7,  3],\n",
      "       [13,  0,  1,  2,  3],\n",
      "       [38, 14, 34, 25, 18],\n",
      "       [38, 14,  2,  5, 25],\n",
      "       [11, 18, 30, 25, 26],\n",
      "       [ 4,  0,  1, 19,  5],\n",
      "       [30, 11, 28, 29, 20],\n",
      "       [ 1,  4,  2,  5,  3],\n",
      "       [20, 28, 23, 25, 30],\n",
      "       [16, 10,  9, 15,  5],\n",
      "       [16, 15,  9,  5,  3],\n",
      "       [ 1,  4,  2,  8,  5],\n",
      "       [40, 16, 11, 15, 12],\n",
      "       [30, 29, 11, 28, 25],\n",
      "       [40, 15, 11, 39, 42],\n",
      "       [ 2, 38,  5,  1, 25],\n",
      "       [11, 28, 18, 23, 25],\n",
      "       [24, 21, 18, 19, 11],\n",
      "       [ 0,  4,  1,  2,  3],\n",
      "       [ 0,  4,  1, 19,  5],\n",
      "       [ 0,  4,  5, 19, 20],\n",
      "       [ 0,  4,  5,  8,  1]], dtype=int32))\n"
     ]
    }
   ],
   "source": [
    "### Print out the top five softmax probabilities for the predictions on the German traffic sign images found on the web. \n",
    "### Feel free to use as many code cells as needed.\n",
    "with tf.Session() as sess:\n",
    "    saver.restore(sess, tf.train.latest_checkpoint('.'))\n",
    "    print(sess.run(tf.nn.top_k(tf.nn.softmax(logits), k=5),feed_dict={x: X_custom, y: y_custom, keep_prob:1} ))"
   ]
  },
  {
   "cell_type": "markdown",
   "metadata": {},
   "source": [
    "### Project Writeup\n",
    "\n",
    "Once you have completed the code implementation, document your results in a project writeup using this [template](https://github.com/udacity/CarND-Traffic-Sign-Classifier-Project/blob/master/writeup_template.md) as a guide. The writeup can be in a markdown or pdf file. "
   ]
  },
  {
   "cell_type": "markdown",
   "metadata": {},
   "source": [
    "> **Note**: Once you have completed all of the code implementations and successfully answered each question above, you may finalize your work by exporting the iPython Notebook as an HTML document. You can do this by using the menu above and navigating to  \\n\",\n",
    "    \"**File -> Download as -> HTML (.html)**. Include the finished document along with this notebook as your submission."
   ]
  },
  {
   "cell_type": "markdown",
   "metadata": {},
   "source": [
    "---\n",
    "\n",
    "## Step 4 (Optional): Visualize the Neural Network's State with Test Images\n",
    "\n",
    " This Section is not required to complete but acts as an additional excersise for understaning the output of a neural network's weights. While neural networks can be a great learning device they are often referred to as a black box. We can understand what the weights of a neural network look like better by plotting their feature maps. After successfully training your neural network you can see what it's feature maps look like by plotting the output of the network's weight layers in response to a test stimuli image. From these plotted feature maps, it's possible to see what characteristics of an image the network finds interesting. For a sign, maybe the inner network feature maps react with high activation to the sign's boundary outline or to the contrast in the sign's painted symbol.\n",
    "\n",
    " Provided for you below is the function code that allows you to get the visualization output of any tensorflow weight layer you want. The inputs to the function should be a stimuli image, one used during training or a new one you provided, and then the tensorflow variable name that represents the layer's state during the training process, for instance if you wanted to see what the [LeNet lab's](https://classroom.udacity.com/nanodegrees/nd013/parts/fbf77062-5703-404e-b60c-95b78b2f3f9e/modules/6df7ae49-c61c-4bb2-a23e-6527e69209ec/lessons/601ae704-1035-4287-8b11-e2c2716217ad/concepts/d4aca031-508f-4e0b-b493-e7b706120f81) feature maps looked like for it's second convolutional layer you could enter conv2 as the tf_activation variable.\n",
    "\n",
    "For an example of what feature map outputs look like, check out NVIDIA's results in their paper [End-to-End Deep Learning for Self-Driving Cars](https://devblogs.nvidia.com/parallelforall/deep-learning-self-driving-cars/) in the section Visualization of internal CNN State. NVIDIA was able to show that their network's inner weights had high activations to road boundary lines by comparing feature maps from an image with a clear path to one without. Try experimenting with a similar test to show that your trained network's weights are looking for interesting features, whether it's looking at differences in feature maps from images with or without a sign, or even what feature maps look like in a trained network vs a completely untrained one on the same sign image.\n",
    "\n",
    "<figure>\n",
    " <img src=\"visualize_cnn.png\" width=\"380\" alt=\"Combined Image\" />\n",
    " <figcaption>\n",
    " <p></p> \n",
    " <p style=\"text-align: center;\"> Your output should look something like this (above)</p> \n",
    " </figcaption>\n",
    "</figure>\n",
    " <p></p> \n"
   ]
  },
  {
   "cell_type": "code",
   "execution_count": null,
   "metadata": {
    "collapsed": true
   },
   "outputs": [],
   "source": [
    "### Visualize your network's feature maps here.\n",
    "### Feel free to use as many code cells as needed.\n",
    "\n",
    "# image_input: the test image being fed into the network to produce the feature maps\n",
    "# tf_activation: should be a tf variable name used during your training procedure that represents the calculated state of a specific weight layer\n",
    "# activation_min/max: can be used to view the activation contrast in more detail, by default matplot sets min and max to the actual min and max values of the output\n",
    "# plt_num: used to plot out multiple different weight feature map sets on the same block, just extend the plt number for each new feature map entry\n",
    "\n",
    "def outputFeatureMap(image_input, tf_activation, activation_min=-1, activation_max=-1 ,plt_num=1):\n",
    "    # Here make sure to preprocess your image_input in a way your network expects\n",
    "    # with size, normalization, ect if needed\n",
    "    # image_input =\n",
    "    # Note: x should be the same name as your network's tensorflow data placeholder variable\n",
    "    # If you get an error tf_activation is not defined it may be having trouble accessing the variable from inside a function\n",
    "    activation = tf_activation.eval(session=sess,feed_dict={x : image_input})\n",
    "    featuremaps = activation.shape[3]\n",
    "    plt.figure(plt_num, figsize=(15,15))\n",
    "    for featuremap in range(featuremaps):\n",
    "        plt.subplot(6,8, featuremap+1) # sets the number of feature maps to show on each row and column\n",
    "        plt.title('FeatureMap ' + str(featuremap)) # displays the feature map number\n",
    "        if activation_min != -1 & activation_max != -1:\n",
    "            plt.imshow(activation[0,:,:, featuremap], interpolation=\"nearest\", vmin =activation_min, vmax=activation_max, cmap=\"gray\")\n",
    "        elif activation_max != -1:\n",
    "            plt.imshow(activation[0,:,:, featuremap], interpolation=\"nearest\", vmax=activation_max, cmap=\"gray\")\n",
    "        elif activation_min !=-1:\n",
    "            plt.imshow(activation[0,:,:, featuremap], interpolation=\"nearest\", vmin=activation_min, cmap=\"gray\")\n",
    "        else:\n",
    "            plt.imshow(activation[0,:,:, featuremap], interpolation=\"nearest\", cmap=\"gray\")"
   ]
  },
  {
   "cell_type": "code",
   "execution_count": null,
   "metadata": {},
   "outputs": [],
   "source": []
  },
  {
   "cell_type": "code",
   "execution_count": null,
   "metadata": {
    "collapsed": true
   },
   "outputs": [],
   "source": []
  }
 ],
 "metadata": {
  "anaconda-cloud": {},
  "kernelspec": {
   "display_name": "Python 3",
   "language": "python",
   "name": "python3"
  },
  "language_info": {
   "codemirror_mode": {
    "name": "ipython",
    "version": 3
   },
   "file_extension": ".py",
   "mimetype": "text/x-python",
   "name": "python",
   "nbconvert_exporter": "python",
   "pygments_lexer": "ipython3",
   "version": "3.5.2"
  },
  "widgets": {
   "state": {},
   "version": "1.1.2"
  }
 },
 "nbformat": 4,
 "nbformat_minor": 1
}
